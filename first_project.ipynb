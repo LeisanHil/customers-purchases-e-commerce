{
 "cells": [
  {
   "cell_type": "code",
   "execution_count": 58,
   "metadata": {},
   "outputs": [],
   "source": [
    "import pandas as pd\n",
    "import seaborn as sns\n",
    "import matplotlib.pyplot as plt\n",
    "from operator import attrgetter\n",
    "%matplotlib inline"
   ]
  },
  {
   "cell_type": "code",
   "execution_count": 2,
   "metadata": {},
   "outputs": [],
   "source": [
    "customers_df = pd.read_csv('/mnt/HC_Volume_18315164/home-jupyter/jupyter-l-hilazheva/for_first_project/olist_customers_dataset.csv')\n",
    "items_df = pd.read_csv('/mnt/HC_Volume_18315164/home-jupyter/jupyter-l-hilazheva/for_first_project/olist_order_items_dataset.csv')\n",
    "orders_df = pd.read_csv('/mnt/HC_Volume_18315164/home-jupyter/jupyter-l-hilazheva/for_first_project/olist_orders_dataset.csv')"
   ]
  },
  {
   "cell_type": "code",
   "execution_count": 3,
   "metadata": {},
   "outputs": [],
   "source": [
    "# Changing the data type in date and time columns\n",
    "\n",
    "orders_df['order_purchase_timestamp'] = pd.to_datetime(orders_df['order_purchase_timestamp'])\n",
    "orders_df['order_approved_at'] = pd.to_datetime(orders_df['order_approved_at'])\n",
    "orders_df['order_delivered_carrier_date'] = pd.to_datetime(orders_df['order_delivered_carrier_date'])\n",
    "orders_df['order_delivered_customer_date'] = pd.to_datetime(orders_df['order_delivered_customer_date'])\n",
    "orders_df['order_estimated_delivery_date'] = pd.to_datetime(orders_df['order_estimated_delivery_date'])\n",
    "items_df['shipping_limit_date'] = pd.to_datetime(items_df['shipping_limit_date'])"
   ]
  },
  {
   "cell_type": "markdown",
   "metadata": {},
   "source": [
    "#### Users who made only one purchase:"
   ]
  },
  {
   "cell_type": "code",
   "execution_count": 4,
   "metadata": {},
   "outputs": [],
   "source": [
    "# Merging two dataframes to include purchase data for each user\n",
    "\n",
    "summary_df = orders_df.merge(customers_df, on='customer_id', how='left')"
   ]
  },
  {
   "cell_type": "code",
   "execution_count": 5,
   "metadata": {},
   "outputs": [
    {
     "data": {
      "text/plain": [
       "90557"
      ]
     },
     "execution_count": 5,
     "metadata": {},
     "output_type": "execute_result"
    }
   ],
   "source": [
    "# Selecting only delivered orders, grouping by customer_unique_id, counting the number of orders per user,\n",
    "# filtering users with only one completed order, calculating the total number\n",
    "\n",
    "only_one_order = summary_df.query(\"order_status == 'delivered'\") \\\n",
    "                           .groupby('customer_unique_id', as_index=False) \\\n",
    "                           .agg({'order_status': 'count'}) \\\n",
    "                           .rename(columns={'order_status': 'total_orders'}) \\\n",
    "                           .query('total_orders == 1')\n",
    "only_one_order.total_orders.sum()"
   ]
  },
  {
   "cell_type": "markdown",
   "metadata": {},
   "source": [
    "#### Average number of undelivered orders per month, depending on the reason:\n",
    "\n",
    "Since the analyzed data covers 2016-2018, and the number of orders with statuses 'canceled' and 'unavailable' is lower than those in progress ('approved', 'created', 'invoiced', 'processing', and 'shipped'), I will assume that these orders are also unsuccessful and undelivered."
   ]
  },
  {
   "cell_type": "code",
   "execution_count": 6,
   "metadata": {},
   "outputs": [],
   "source": [
    "failed_orders = summary_df.query(\"order_status != 'delivered'\")"
   ]
  },
  {
   "cell_type": "code",
   "execution_count": 7,
   "metadata": {},
   "outputs": [
    {
     "name": "stderr",
     "output_type": "stream",
     "text": [
      "/opt/tljh/user/lib/python3.7/site-packages/ipykernel_launcher.py:3: SettingWithCopyWarning: \n",
      "A value is trying to be set on a copy of a slice from a DataFrame.\n",
      "Try using .loc[row_indexer,col_indexer] = value instead\n",
      "\n",
      "See the caveats in the documentation: https://pandas.pydata.org/pandas-docs/stable/user_guide/indexing.html#returning-a-view-versus-a-copy\n",
      "  This is separate from the ipykernel package so we can avoid doing imports until\n"
     ]
    }
   ],
   "source": [
    "# Adding a column with the order year and month\n",
    "\n",
    "failed_orders['year_month'] = pd.to_datetime(failed_orders['order_purchase_timestamp']).dt.to_period('M')"
   ]
  },
  {
   "cell_type": "code",
   "execution_count": 8,
   "metadata": {},
   "outputs": [],
   "source": [
    "# Grouping by month and status, counting the number of orders\n",
    "\n",
    "failed_orders = failed_orders.groupby(['year_month', 'order_status'], as_index=False) \\\n",
    "                             .agg({'order_id': 'count'}) \\\n",
    "                             .rename(columns={'order_id': 'orders'})"
   ]
  },
  {
   "cell_type": "code",
   "execution_count": 9,
   "metadata": {},
   "outputs": [
    {
     "data": {
      "text/plain": [
       "123.0"
      ]
     },
     "execution_count": 9,
     "metadata": {},
     "output_type": "execute_result"
    }
   ],
   "source": [
    "# Average number of undelivered orders per month (without breaking down by reason)\n",
    "\n",
    "failed_per_month = failed_orders.groupby('year_month', as_index=False) \\\n",
    "                                .agg({'orders': 'sum'}) \n",
    "failed_per_month.orders.mean().round(0)"
   ]
  },
  {
   "cell_type": "code",
   "execution_count": 10,
   "metadata": {},
   "outputs": [
    {
     "data": {
      "text/html": [
       "<div>\n",
       "<style scoped>\n",
       "    .dataframe tbody tr th:only-of-type {\n",
       "        vertical-align: middle;\n",
       "    }\n",
       "\n",
       "    .dataframe tbody tr th {\n",
       "        vertical-align: top;\n",
       "    }\n",
       "\n",
       "    .dataframe thead th {\n",
       "        text-align: right;\n",
       "    }\n",
       "</style>\n",
       "<table border=\"1\" class=\"dataframe\">\n",
       "  <thead>\n",
       "    <tr style=\"text-align: right;\">\n",
       "      <th></th>\n",
       "      <th>order_status</th>\n",
       "      <th>avg_per_month</th>\n",
       "    </tr>\n",
       "  </thead>\n",
       "  <tbody>\n",
       "    <tr>\n",
       "      <th>0</th>\n",
       "      <td>approved</td>\n",
       "      <td>1.0</td>\n",
       "    </tr>\n",
       "    <tr>\n",
       "      <th>1</th>\n",
       "      <td>canceled</td>\n",
       "      <td>26.0</td>\n",
       "    </tr>\n",
       "    <tr>\n",
       "      <th>2</th>\n",
       "      <td>created</td>\n",
       "      <td>2.0</td>\n",
       "    </tr>\n",
       "    <tr>\n",
       "      <th>3</th>\n",
       "      <td>invoiced</td>\n",
       "      <td>15.0</td>\n",
       "    </tr>\n",
       "    <tr>\n",
       "      <th>4</th>\n",
       "      <td>processing</td>\n",
       "      <td>16.0</td>\n",
       "    </tr>\n",
       "    <tr>\n",
       "      <th>5</th>\n",
       "      <td>shipped</td>\n",
       "      <td>48.0</td>\n",
       "    </tr>\n",
       "    <tr>\n",
       "      <th>6</th>\n",
       "      <td>unavailable</td>\n",
       "      <td>29.0</td>\n",
       "    </tr>\n",
       "  </tbody>\n",
       "</table>\n",
       "</div>"
      ],
      "text/plain": [
       "  order_status  avg_per_month\n",
       "0     approved            1.0\n",
       "1     canceled           26.0\n",
       "2      created            2.0\n",
       "3     invoiced           15.0\n",
       "4   processing           16.0\n",
       "5      shipped           48.0\n",
       "6  unavailable           29.0"
      ]
     },
     "execution_count": 10,
     "metadata": {},
     "output_type": "execute_result"
    }
   ],
   "source": [
    "# Grouping by order status, calculating the monthly average for each status\n",
    "\n",
    "reasons = failed_orders.groupby('order_status', as_index=False) \\\n",
    "                       .agg({'orders': 'mean'}) \\\n",
    "                       .rename(columns={'orders': 'avg_per_month'}) \\\n",
    "                       .round(0)\n",
    "reasons"
   ]
  },
  {
   "cell_type": "code",
   "execution_count": 11,
   "metadata": {},
   "outputs": [
    {
     "data": {
      "text/plain": [
       "<matplotlib.axes._subplots.AxesSubplot at 0x7f96a670fcc0>"
      ]
     },
     "execution_count": 11,
     "metadata": {},
     "output_type": "execute_result"
    },
    {
     "data": {
      "image/png": "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\n",
      "text/plain": [
       "<Figure size 576x360 with 1 Axes>"
      ]
     },
     "metadata": {
      "needs_background": "light"
     },
     "output_type": "display_data"
    }
   ],
   "source": [
    "plt.figure(figsize=(8,5))\n",
    "sns.barplot (data=reasons, x='order_status', y='avg_per_month')"
   ]
  },
  {
   "cell_type": "markdown",
   "metadata": {},
   "source": [
    "#### Days of the week when each product is most frequently purchased:"
   ]
  },
  {
   "cell_type": "code",
   "execution_count": 12,
   "metadata": {},
   "outputs": [],
   "source": [
    "# Merging two dataframes to include product details for each order,\n", 
    "# then selecting orders with status 'delivered'\n",
    "\n",
    "items_full_df = items_df.merge(orders_df, on='order_id', how='left')\n",
    "items_full_df = items_full_df.query(\"order_status == 'delivered'\")"
   ]
  },
  {
   "cell_type": "code",
   "execution_count": 13,
   "metadata": {},
   "outputs": [],
   "source": [
    "# Adding a column with the name of the weekday\n",
    "\n",
    "items_full_df['week_day'] = items_full_df.order_purchase_timestamp.dt.day_name()"
   ]
  },
  {
   "cell_type": "code",
   "execution_count": 14,
   "metadata": {},
   "outputs": [],
   "source": [
    "# Grouping by product_id and weekday, counting occurrences\n",
    "\n",
    "orders_by_week_days = items_full_df.groupby(['product_id', 'week_day'], as_index=False) \\\n",
    "                                   .agg({'order_id': 'count'}) \\\n",
    "                                   .rename(columns={'order_id': 'orders'})"
   ]
  },
  {
   "cell_type": "code",
   "execution_count": 15,
   "metadata": {},
   "outputs": [
    {
     "data": {
      "text/html": [
       "<div>\n",
       "<style scoped>\n",
       "    .dataframe tbody tr th:only-of-type {\n",
       "        vertical-align: middle;\n",
       "    }\n",
       "\n",
       "    .dataframe tbody tr th {\n",
       "        vertical-align: top;\n",
       "    }\n",
       "\n",
       "    .dataframe thead th {\n",
       "        text-align: right;\n",
       "    }\n",
       "</style>\n",
       "<table border=\"1\" class=\"dataframe\">\n",
       "  <thead>\n",
       "    <tr style=\"text-align: right;\">\n",
       "      <th></th>\n",
       "      <th>product_id</th>\n",
       "      <th>week_day</th>\n",
       "      <th>orders</th>\n",
       "    </tr>\n",
       "  </thead>\n",
       "  <tbody>\n",
       "    <tr>\n",
       "      <th>15597</th>\n",
       "      <td>422879e10f46682990de24d770e7f83d</td>\n",
       "      <td>Wednesday</td>\n",
       "      <td>93</td>\n",
       "    </tr>\n",
       "    <tr>\n",
       "      <th>35751</th>\n",
       "      <td>99a4788cb24856965c36a24e339b6058</td>\n",
       "      <td>Monday</td>\n",
       "      <td>91</td>\n",
       "    </tr>\n",
       "    <tr>\n",
       "      <th>40183</th>\n",
       "      <td>aca2eb7d00ea1a7b8ebd4e68314663af</td>\n",
       "      <td>Thursday</td>\n",
       "      <td>89</td>\n",
       "    </tr>\n",
       "    <tr>\n",
       "      <th>19711</th>\n",
       "      <td>53b36df67ebb7c41585e8d54d6772e08</td>\n",
       "      <td>Tuesday</td>\n",
       "      <td>76</td>\n",
       "    </tr>\n",
       "    <tr>\n",
       "      <th>12745</th>\n",
       "      <td>368c6c730842d78016ad823897a372db</td>\n",
       "      <td>Friday</td>\n",
       "      <td>67</td>\n",
       "    </tr>\n",
       "    <tr>\n",
       "      <th>13271</th>\n",
       "      <td>389d119b48cf3043d311335e499d9c6b</td>\n",
       "      <td>Thursday</td>\n",
       "      <td>67</td>\n",
       "    </tr>\n",
       "    <tr>\n",
       "      <th>19662</th>\n",
       "      <td>53759a2ecddad2bb87a079a1f1519f73</td>\n",
       "      <td>Wednesday</td>\n",
       "      <td>66</td>\n",
       "    </tr>\n",
       "    <tr>\n",
       "      <th>49153</th>\n",
       "      <td>d1c427060a0f73f6b889a5c7c61f2ac4</td>\n",
       "      <td>Monday</td>\n",
       "      <td>62</td>\n",
       "    </tr>\n",
       "    <tr>\n",
       "      <th>14546</th>\n",
       "      <td>3dd2a17168ec895c781a9191c1e95ad7</td>\n",
       "      <td>Wednesday</td>\n",
       "      <td>53</td>\n",
       "    </tr>\n",
       "    <tr>\n",
       "      <th>38688</th>\n",
       "      <td>a62e25e09e05e6faf31d90c6ec1aa3d1</td>\n",
       "      <td>Thursday</td>\n",
       "      <td>49</td>\n",
       "    </tr>\n",
       "  </tbody>\n",
       "</table>\n",
       "</div>"
      ],
      "text/plain": [
       "                             product_id   week_day  orders\n",
       "15597  422879e10f46682990de24d770e7f83d  Wednesday      93\n",
       "35751  99a4788cb24856965c36a24e339b6058     Monday      91\n",
       "40183  aca2eb7d00ea1a7b8ebd4e68314663af   Thursday      89\n",
       "19711  53b36df67ebb7c41585e8d54d6772e08    Tuesday      76\n",
       "12745  368c6c730842d78016ad823897a372db     Friday      67\n",
       "13271  389d119b48cf3043d311335e499d9c6b   Thursday      67\n",
       "19662  53759a2ecddad2bb87a079a1f1519f73  Wednesday      66\n",
       "49153  d1c427060a0f73f6b889a5c7c61f2ac4     Monday      62\n",
       "14546  3dd2a17168ec895c781a9191c1e95ad7  Wednesday      53\n",
       "38688  a62e25e09e05e6faf31d90c6ec1aa3d1   Thursday      49"
      ]
     },
     "execution_count": 15,
     "metadata": {},
     "output_type": "execute_result"
    }
   ],
   "source": [
    "# Selecting only rows with the highest number of orders per product, sorting in descending order\n"
    "# (for visualizing top-selling products)\n",
    "\n",
    "max_orders_days = orders_by_week_days.loc[orders_by_week_days.groupby('product_id')['orders'].idxmax()].sort_values('orders', ascending=False)\n",
    "max_orders_days[:10]"
   ]
  },
  {
   "cell_type": "code",
   "execution_count": 16,
   "metadata": {},
   "outputs": [
    {
     "name": "stderr",
     "output_type": "stream",
     "text": [
      "/opt/tljh/user/lib/python3.7/site-packages/seaborn/_decorators.py:43: FutureWarning: Pass the following variable as a keyword arg: x. From version 0.12, the only valid positional argument will be `data`, and passing other arguments without an explicit keyword will result in an error or misinterpretation.\n",
      "  FutureWarning\n"
     ]
    },
    {
     "data": {
      "text/plain": [
       "<matplotlib.axes._subplots.AxesSubplot at 0x7f96a8fbe898>"
      ]
     },
     "execution_count": 16,
     "metadata": {},
     "output_type": "execute_result"
    },
    {
     "data": {
      "image/png": "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\n",
      "text/plain": [
       "<Figure size 576x360 with 1 Axes>"
      ]
     },
     "metadata": {
      "needs_background": "light"
     },
     "output_type": "display_data"
    }
   ],
   "source": [
    "plt.figure(figsize=(8,5))\n",
    "sns.countplot(max_orders_days.week_day)"
   ]
  },
  {
   "cell_type": "markdown",
   "metadata": {},
   "source": [
    "An alternative solution to the above task, where the resulting dataframe also includes rows for other weekdays if the highest number of orders was the same on multiple days (e.g., if a product was ordered once on three different weekdays). However, since the loop takes about 5 minutes to execute, it has been commented out."
   ]
  },
  {
   "cell_type": "code",
   "execution_count": 17,
   "metadata": {},
   "outputs": [],
   "source": [
    "#max_orders_days = pd.DataFrame()\n",
    "#for product in orders_by_week_days['product_id'].unique():\n",
    "    #product_data = orders_by_week_days[orders_by_week_days['product_id'] == product]\n",
    "    #max_order_rows = product_data[product_data['orders'] == product_data['orders'].max()]\n",
    "    #max_orders_days = max_orders_days.append(max_order_rows)"
   ]
  },
  {
   "cell_type": "markdown",
   "metadata": {},
   "source": [
    "#### Average number of purchases per week per user:"
   ]
  },
  {
   "cell_type": "code",
   "execution_count": 18,
   "metadata": {},
   "outputs": [],
   "source": [
    "# Selecting only delivered orders from the merged dataframe\n",
    "\n",
    "purchases_df = summary_df.query(\"order_status == 'delivered'\")"
   ]
  },
  {
   "cell_type": "code",
   "execution_count": 19,
   "metadata": {},
   "outputs": [
    {
     "name": "stderr",
     "output_type": "stream",
     "text": [
      "/opt/tljh/user/lib/python3.7/site-packages/ipykernel_launcher.py:3: SettingWithCopyWarning: \n",
      "A value is trying to be set on a copy of a slice from a DataFrame.\n",
      "Try using .loc[row_indexer,col_indexer] = value instead\n",
      "\n",
      "See the caveats in the documentation: https://pandas.pydata.org/pandas-docs/stable/user_guide/indexing.html#returning-a-view-versus-a-copy\n",
      "  This is separate from the ipykernel package so we can avoid doing imports until\n"
     ]
    }
   ],
   "source": [
    "# Creating a column for the month\n",
    "\n",
    "purchases_df['year_month'] = pd.to_datetime(purchases_df['order_purchase_timestamp']).dt.to_period('M')"
   ]
  },
  {
   "cell_type": "code",
   "execution_count": 20,
   "metadata": {},
   "outputs": [],
   "source": [
    "# Задаю переменной num_of_weeks кол-во недель в месяце\n",
    "\n",
    "num_of_weeks = {x: round(x.daysinmonth / 7, 2) for x in purchases_df['year_month']}"
   ]
  },
  {
   "cell_type": "code",
   "execution_count": 21,
   "metadata": {},
   "outputs": [],
   "source": [
    "# Группирую данные по пользователям и месяцам, считаю кол-во заказов, сортирую по кол-ву заказов для визуализации наиболее лояльных пользователей\n",
    "\n",
    "orders_per_customer = purchases_df.groupby(['customer_unique_id', 'year_month'], as_index=False) \\\n",
    "                                  .agg({'order_id': 'count'}) \\\n",
    "                                  .rename(columns={'order_id': 'orders'}) \\\n",
    "                                  .sort_values(['orders', 'customer_unique_id'], ascending=False)"
   ]
  },
  {
   "cell_type": "code",
   "execution_count": 22,
   "metadata": {},
   "outputs": [
    {
     "data": {
      "text/html": [
       "<div>\n",
       "<style scoped>\n",
       "    .dataframe tbody tr th:only-of-type {\n",
       "        vertical-align: middle;\n",
       "    }\n",
       "\n",
       "    .dataframe tbody tr th {\n",
       "        vertical-align: top;\n",
       "    }\n",
       "\n",
       "    .dataframe thead th {\n",
       "        text-align: right;\n",
       "    }\n",
       "</style>\n",
       "<table border=\"1\" class=\"dataframe\">\n",
       "  <thead>\n",
       "    <tr style=\"text-align: right;\">\n",
       "      <th></th>\n",
       "      <th>customer_unique_id</th>\n",
       "      <th>year_month</th>\n",
       "      <th>orders</th>\n",
       "      <th>order_per_week</th>\n",
       "    </tr>\n",
       "  </thead>\n",
       "  <tbody>\n",
       "    <tr>\n",
       "      <th>7099</th>\n",
       "      <td>12f5d6e1cbf93dafd9dcc19095df0b3d</td>\n",
       "      <td>2017-01</td>\n",
       "      <td>6</td>\n",
       "      <td>1.35</td>\n",
       "    </tr>\n",
       "    <tr>\n",
       "      <th>74559</th>\n",
       "      <td>c8460e4251689ba205045f3ea17884a1</td>\n",
       "      <td>2018-08</td>\n",
       "      <td>4</td>\n",
       "      <td>0.90</td>\n",
       "    </tr>\n",
       "    <tr>\n",
       "      <th>67359</th>\n",
       "      <td>b4e4f24de1e8725b74e4a1f4975116ed</td>\n",
       "      <td>2018-02</td>\n",
       "      <td>4</td>\n",
       "      <td>1.00</td>\n",
       "    </tr>\n",
       "    <tr>\n",
       "      <th>65770</th>\n",
       "      <td>b08fab27d47a1eb6deda07bfd965ad43</td>\n",
       "      <td>2017-09</td>\n",
       "      <td>4</td>\n",
       "      <td>0.93</td>\n",
       "    </tr>\n",
       "    <tr>\n",
       "      <th>60370</th>\n",
       "      <td>a239b8e2fbce33780f1f1912e2ee5275</td>\n",
       "      <td>2017-02</td>\n",
       "      <td>4</td>\n",
       "      <td>1.00</td>\n",
       "    </tr>\n",
       "    <tr>\n",
       "      <th>49124</th>\n",
       "      <td>83e7958a94bd7f74a9414d8782f87628</td>\n",
       "      <td>2017-01</td>\n",
       "      <td>4</td>\n",
       "      <td>0.90</td>\n",
       "    </tr>\n",
       "    <tr>\n",
       "      <th>23222</th>\n",
       "      <td>3e43e6105506432c953e165fb2acf44c</td>\n",
       "      <td>2018-02</td>\n",
       "      <td>4</td>\n",
       "      <td>1.00</td>\n",
       "    </tr>\n",
       "    <tr>\n",
       "      <th>14057</th>\n",
       "      <td>25a560b9a6006157838aab1bdbd68624</td>\n",
       "      <td>2017-04</td>\n",
       "      <td>4</td>\n",
       "      <td>0.93</td>\n",
       "    </tr>\n",
       "    <tr>\n",
       "      <th>91686</th>\n",
       "      <td>f64ec6d8dd29940264cd0bbb5ecade8a</td>\n",
       "      <td>2017-11</td>\n",
       "      <td>3</td>\n",
       "      <td>0.70</td>\n",
       "    </tr>\n",
       "    <tr>\n",
       "      <th>90531</th>\n",
       "      <td>f34cd7fd85a1f8baff886edf09567be3</td>\n",
       "      <td>2017-08</td>\n",
       "      <td>3</td>\n",
       "      <td>0.68</td>\n",
       "    </tr>\n",
       "  </tbody>\n",
       "</table>\n",
       "</div>"
      ],
      "text/plain": [
       "                     customer_unique_id year_month  orders  order_per_week\n",
       "7099   12f5d6e1cbf93dafd9dcc19095df0b3d    2017-01       6            1.35\n",
       "74559  c8460e4251689ba205045f3ea17884a1    2018-08       4            0.90\n",
       "67359  b4e4f24de1e8725b74e4a1f4975116ed    2018-02       4            1.00\n",
       "65770  b08fab27d47a1eb6deda07bfd965ad43    2017-09       4            0.93\n",
       "60370  a239b8e2fbce33780f1f1912e2ee5275    2017-02       4            1.00\n",
       "49124  83e7958a94bd7f74a9414d8782f87628    2017-01       4            0.90\n",
       "23222  3e43e6105506432c953e165fb2acf44c    2018-02       4            1.00\n",
       "14057  25a560b9a6006157838aab1bdbd68624    2017-04       4            0.93\n",
       "91686  f64ec6d8dd29940264cd0bbb5ecade8a    2017-11       3            0.70\n",
       "90531  f34cd7fd85a1f8baff886edf09567be3    2017-08       3            0.68"
      ]
     },
     "execution_count": 22,
     "metadata": {},
     "output_type": "execute_result"
    }
   ],
   "source": [
    "# Считаю среднее кол-во заказов в неделю по месяцам на каждого пользователя\n",
    "\n",
    "orders_per_customer['order_per_week'] = (orders_per_customer.orders / orders_per_customer.year_month.apply(lambda x: num_of_weeks[x])).round(2)\n",
    "orders_per_customer[:10]"
   ]
  },
  {
   "cell_type": "markdown",
   "metadata": {},
   "source": [
    "#### Когорта с самым высоким retention на 3й месяц:"
   ]
  },
  {
   "cell_type": "code",
   "execution_count": 23,
   "metadata": {},
   "outputs": [],
   "source": [
    "# Дропаю лишние колонки\n",
    "\n",
    "cohort_df = summary_df.drop(columns=['customer_id', 'order_approved_at', 'order_delivered_customer_date', 'order_delivered_carrier_date', 'order_estimated_delivery_date', 'customer_zip_code_prefix', 'customer_city', 'customer_state'])\n"
   ]
  },
  {
   "cell_type": "code",
   "execution_count": 24,
   "metadata": {},
   "outputs": [],
   "source": [
    "# Отбираю только доставленныее заказы, добавляю колонку с месяцем совершения покупки, \n",
    "# отбираю заказы 1 (2017) года + 2 месяцев для рассчета коэффициента удержания пользователей на третий месяц\n",
    "\n",
    "cohort_df = cohort_df.query(\"order_status == 'delivered'\")\n",
    "cohort_df['order_date'] = pd.to_datetime(cohort_df['order_purchase_timestamp']).dt.to_period('M')\n",
    "cohort_df = cohort_df.query(\"order_date >= '2017-01' and order_date <= '2018-02'\")"
   ]
  },
  {
   "cell_type": "code",
   "execution_count": 25,
   "metadata": {},
   "outputs": [],
   "source": [
    "# Формирую датафрейм со столбцом даты первого заказа на каждого уникального пользователя\n",
    "\n",
    "first_order_date = cohort_df.groupby('customer_unique_id', as_index=False) \\\n",
    "                            .agg({'order_date': 'min'}) \\\n",
    "                            .rename(columns={'order_date': 'first_order_date'})"
   ]
  },
  {
   "cell_type": "code",
   "execution_count": 26,
   "metadata": {},
   "outputs": [],
   "source": [
    "# Добавляю новую колонку с датой первого заказа в основной датафрейм (cohort_df)\n",
    "\n",
    "cohort_df = cohort_df.merge(first_order_date, on='customer_unique_id', how='left')"
   ]
  },
  {
   "cell_type": "code",
   "execution_count": 27,
   "metadata": {},
   "outputs": [],
   "source": [
    "# Считаю кол-во новых пользователей в каждый месяц\n",
    "\n",
    "new_customers_by_month = cohort_df.groupby(['first_order_date'], as_index=False) \\\n",
    "                                  .agg({'customer_unique_id': 'count'}) \\\n",
    "                                  .rename(columns={'customer_unique_id': 'customers'})"
   ]
  },
  {
   "cell_type": "code",
   "execution_count": 28,
   "metadata": {},
   "outputs": [],
   "source": [
    "# Добавляю колонку с разницей даты текущего заказа от первого заказа, отбираю только те заказы, которые были совершены на третий месяц после первого\n",
    "\n",
    "cohort_df['orders_date_dif'] = (cohort_df.order_date - cohort_df.first_order_date).apply(attrgetter('n'))\n",
    "month_3_activity = cohort_df.query('orders_date_dif == 2')"
   ]
  },
  {
   "cell_type": "code",
   "execution_count": 29,
   "metadata": {},
   "outputs": [],
   "source": [
    "# Считаю кол-во уникальных пользователей в месяц, совершивших заказ на третий месяц от даты первого\n",
    "\n",
    "active_customers = month_3_activity.groupby('first_order_date', as_index=False) \\\n",
    "                                   .agg({'customer_unique_id': 'count'}) \\\n",
    "                                   .rename(columns={'customer_unique_id': 'active_customers'})"
   ]
  },
  {
   "cell_type": "code",
   "execution_count": 30,
   "metadata": {},
   "outputs": [
    {
     "data": {
      "text/plain": [
       "<matplotlib.axes._subplots.AxesSubplot at 0x7f96a670b198>"
      ]
     },
     "execution_count": 30,
     "metadata": {},
     "output_type": "execute_result"
    },
    {
     "data": {
      "image/png": "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\n",
      "text/plain": [
       "<Figure size 864x432 with 1 Axes>"
      ]
     },
     "metadata": {
      "needs_background": "light"
     },
     "output_type": "display_data"
    }
   ],
   "source": [
    "# Рассчитываю retention_rate, оставляю месяцы 2017 года\n",
    "\n",
    "final_df = new_customers_by_month.merge(active_customers, on='first_order_date', how='left')\n",
    "final_df = final_df.fillna(0)\n",
    "final_df['retention_rate'] = round((final_df.active_customers / final_df.customers) * 100, 2)\n",
    "final_df = final_df.query(\"first_order_date >= '2017-01' and first_order_date <= '2017-12'\")\n",
    "\n",
    "plt.figure(figsize=(12,6))\n",
    "sns.barplot(data=final_df, x='first_order_date', y='retention_rate')"
   ]
  },
  {
   "cell_type": "code",
   "execution_count": 31,
   "metadata": {},
   "outputs": [
    {
     "data": {
      "text/plain": [
       "224      95cfb39a7e263160308a934e42cfc4e0\n",
       "3095     0e06af8004ffd01a3461e768f9f659aa\n",
       "6858     2ddc001b620bd90d0f4378cfde1db887\n",
       "7823     2a3f4536e732a04cfad59b6e50c2e925\n",
       "12237    4ffd7cf05f22d7a320750a2f9e73f665\n",
       "13067    507dc9becd4fc65635d90682dfa9d3a3\n",
       "17669    b896655e2083a1d76b7b85df8fc86e40\n",
       "20445    42398dee8f2098eec5579129cc1a6f5e\n",
       "24286    e68856e8450afe7390b02d1b2bcefb29\n",
       "33221    6469f99c1f9dfae7733b25662e7f1782\n",
       "38976    75e750a6279d55f7137bb9e9bb8662cf\n",
       "39310    b6c083700ca8c135ba9f0f132930d4e8\n",
       "40255    5e3e9e897d07a80fc2af58088a84812a\n",
       "42025    0d4644eff058d75937ca1eec574bf87d\n",
       "42369    73601b1eec55943e90ce8d61253d5c09\n",
       "43272    e7039843c54c69530bbf70d926baaab6\n",
       "44133    65e2735427dedd6a787e5b065b3cc41e\n",
       "44510    5b3186d7cf904f2f9369aec26faba4d2\n",
       "45072    85ed7212fe192ab02ab44c95ba87868e\n",
       "47261    3c25f47ab68536a1d3d6b29b9c8b7e63\n",
       "50975    c2919fbdb45366551c1e80d5cb35cd3f\n",
       "52906    6b1b676621a55a12546f8eeeaa12d4a7\n",
       "Name: customer_unique_id, dtype: object"
      ]
     },
     "execution_count": 31,
     "metadata": {},
     "output_type": "execute_result"
    }
   ],
   "source": [
    "# Определяю когорту пользователей с самым высоким retention на 3й месяц\n",
    "\n",
    "most_retented_cohort = month_3_activity[month_3_activity['first_order_date'] == '2017-09'].customer_unique_id\n",
    "most_retented_cohort"
   ]
  },
  {
   "cell_type": "markdown",
   "metadata": {},
   "source": [
    "#### RFM-сегментация пользователей:"
   ]
  },
  {
   "cell_type": "code",
   "execution_count": 32,
   "metadata": {},
   "outputs": [
    {
     "data": {
      "text/html": [
       "<div>\n",
       "<style scoped>\n",
       "    .dataframe tbody tr th:only-of-type {\n",
       "        vertical-align: middle;\n",
       "    }\n",
       "\n",
       "    .dataframe tbody tr th {\n",
       "        vertical-align: top;\n",
       "    }\n",
       "\n",
       "    .dataframe thead th {\n",
       "        text-align: right;\n",
       "    }\n",
       "</style>\n",
       "<table border=\"1\" class=\"dataframe\">\n",
       "  <thead>\n",
       "    <tr style=\"text-align: right;\">\n",
       "      <th></th>\n",
       "      <th>order_id</th>\n",
       "      <th>customer_id</th>\n",
       "      <th>order_status</th>\n",
       "      <th>order_purchase_timestamp</th>\n",
       "      <th>customer_unique_id</th>\n",
       "      <th>order_item_id</th>\n",
       "      <th>product_id</th>\n",
       "      <th>price</th>\n",
       "    </tr>\n",
       "  </thead>\n",
       "  <tbody>\n",
       "    <tr>\n",
       "      <th>0</th>\n",
       "      <td>00010242fe8c5a6d1ba2dd792cb16214</td>\n",
       "      <td>3ce436f183e68e07877b285a838db11a</td>\n",
       "      <td>delivered</td>\n",
       "      <td>2017-09-13 08:59:02</td>\n",
       "      <td>871766c5855e863f6eccc05f988b23cb</td>\n",
       "      <td>1</td>\n",
       "      <td>4244733e06e7ecb4970a6e2683c13e61</td>\n",
       "      <td>58.90</td>\n",
       "    </tr>\n",
       "    <tr>\n",
       "      <th>1</th>\n",
       "      <td>00018f77f2f0320c557190d7a144bdd3</td>\n",
       "      <td>f6dd3ec061db4e3987629fe6b26e5cce</td>\n",
       "      <td>delivered</td>\n",
       "      <td>2017-04-26 10:53:06</td>\n",
       "      <td>eb28e67c4c0b83846050ddfb8a35d051</td>\n",
       "      <td>1</td>\n",
       "      <td>e5f2d52b802189ee658865ca93d83a8f</td>\n",
       "      <td>239.90</td>\n",
       "    </tr>\n",
       "    <tr>\n",
       "      <th>2</th>\n",
       "      <td>000229ec398224ef6ca0657da4fc703e</td>\n",
       "      <td>6489ae5e4333f3693df5ad4372dab6d3</td>\n",
       "      <td>delivered</td>\n",
       "      <td>2018-01-14 14:33:31</td>\n",
       "      <td>3818d81c6709e39d06b2738a8d3a2474</td>\n",
       "      <td>1</td>\n",
       "      <td>c777355d18b72b67abbeef9df44fd0fd</td>\n",
       "      <td>199.00</td>\n",
       "    </tr>\n",
       "    <tr>\n",
       "      <th>3</th>\n",
       "      <td>00024acbcdf0a6daa1e931b038114c75</td>\n",
       "      <td>d4eb9395c8c0431ee92fce09860c5a06</td>\n",
       "      <td>delivered</td>\n",
       "      <td>2018-08-08 10:00:35</td>\n",
       "      <td>af861d436cfc08b2c2ddefd0ba074622</td>\n",
       "      <td>1</td>\n",
       "      <td>7634da152a4610f1595efa32f14722fc</td>\n",
       "      <td>12.99</td>\n",
       "    </tr>\n",
       "    <tr>\n",
       "      <th>4</th>\n",
       "      <td>00042b26cf59d7ce69dfabb4e55b4fd9</td>\n",
       "      <td>58dbd0b2d70206bf40e62cd34e84d795</td>\n",
       "      <td>delivered</td>\n",
       "      <td>2017-02-04 13:57:51</td>\n",
       "      <td>64b576fb70d441e8f1b2d7d446e483c5</td>\n",
       "      <td>1</td>\n",
       "      <td>ac6c3623068f30de03045865e4e10089</td>\n",
       "      <td>199.90</td>\n",
       "    </tr>\n",
       "  </tbody>\n",
       "</table>\n",
       "</div>"
      ],
      "text/plain": [
       "                           order_id                       customer_id  \\\n",
       "0  00010242fe8c5a6d1ba2dd792cb16214  3ce436f183e68e07877b285a838db11a   \n",
       "1  00018f77f2f0320c557190d7a144bdd3  f6dd3ec061db4e3987629fe6b26e5cce   \n",
       "2  000229ec398224ef6ca0657da4fc703e  6489ae5e4333f3693df5ad4372dab6d3   \n",
       "3  00024acbcdf0a6daa1e931b038114c75  d4eb9395c8c0431ee92fce09860c5a06   \n",
       "4  00042b26cf59d7ce69dfabb4e55b4fd9  58dbd0b2d70206bf40e62cd34e84d795   \n",
       "\n",
       "  order_status order_purchase_timestamp                customer_unique_id  \\\n",
       "0    delivered      2017-09-13 08:59:02  871766c5855e863f6eccc05f988b23cb   \n",
       "1    delivered      2017-04-26 10:53:06  eb28e67c4c0b83846050ddfb8a35d051   \n",
       "2    delivered      2018-01-14 14:33:31  3818d81c6709e39d06b2738a8d3a2474   \n",
       "3    delivered      2018-08-08 10:00:35  af861d436cfc08b2c2ddefd0ba074622   \n",
       "4    delivered      2017-02-04 13:57:51  64b576fb70d441e8f1b2d7d446e483c5   \n",
       "\n",
       "   order_item_id                        product_id   price  \n",
       "0              1  4244733e06e7ecb4970a6e2683c13e61   58.90  \n",
       "1              1  e5f2d52b802189ee658865ca93d83a8f  239.90  \n",
       "2              1  c777355d18b72b67abbeef9df44fd0fd  199.00  \n",
       "3              1  7634da152a4610f1595efa32f14722fc   12.99  \n",
       "4              1  ac6c3623068f30de03045865e4e10089  199.90  "
      ]
     },
     "execution_count": 32,
     "metadata": {},
     "output_type": "execute_result"
    }
   ],
   "source": [
    "# Формирую датафрейм со всеми имеющимися данными, дропаю лишние колонки, отбираю только доставленныее заказы\n",
    "\n",
    "total_df = summary_df.merge(items_df, on='order_id', how='right')\n",
    "total_df = total_df.drop(columns=['order_approved_at', 'order_delivered_carrier_date', 'order_delivered_customer_date', 'order_estimated_delivery_date', 'customer_zip_code_prefix', 'customer_city', 'customer_state', 'seller_id', 'shipping_limit_date', 'freight_value'])\n",
    "total_df = total_df.query(\"order_status == 'delivered'\")"
   ]
  },
  {
   "cell_type": "code",
   "execution_count": 33,
   "metadata": {},
   "outputs": [],
   "source": [
    "# Рассчитываю метрики recency, frequency и monetary \n",
    "# Для удобства восприятия данных в recency разницу дней вычисляю от следующего дня после последней покупки\n",
    "\n",
    "rfm = total_df.groupby('customer_unique_id', as_index=False).agg({'order_purchase_timestamp': 'max'})\n",
    "now = rfm['order_purchase_timestamp'].max() + pd.Timedelta(days=1)\n",
    "rfm['recency'] = (now - rfm['order_purchase_timestamp']).dt.days\n",
    "rfm = rfm.merge((total_df.groupby('customer_unique_id', as_index=False) \\\n",
    "                         .agg({'order_id': 'count'}) \\\n",
    "                         .rename(columns={'order_id': 'frequency'})), on='customer_unique_id', how='inner')\n",
    "rfm = rfm.merge((total_df.groupby('customer_unique_id', as_index=False) \\\n",
    "                         .agg({'price': 'sum'}) \\\n",
    "                         .rename(columns={'price': 'monetary'})), on='customer_unique_id', how='inner')\n",
    "rfm = rfm.drop(columns='order_purchase_timestamp')"
   ]
  },
  {
   "cell_type": "code",
   "execution_count": 34,
   "metadata": {},
   "outputs": [
    {
     "name": "stderr",
     "output_type": "stream",
     "text": [
      "/opt/tljh/user/lib/python3.7/site-packages/seaborn/distributions.py:2557: FutureWarning: `distplot` is a deprecated function and will be removed in a future version. Please adapt your code to use either `displot` (a figure-level function with similar flexibility) or `histplot` (an axes-level function for histograms).\n",
      "  warnings.warn(msg, FutureWarning)\n",
      "/opt/tljh/user/lib/python3.7/site-packages/seaborn/distributions.py:2557: FutureWarning: `distplot` is a deprecated function and will be removed in a future version. Please adapt your code to use either `displot` (a figure-level function with similar flexibility) or `histplot` (an axes-level function for histograms).\n",
      "  warnings.warn(msg, FutureWarning)\n",
      "/opt/tljh/user/lib/python3.7/site-packages/seaborn/distributions.py:2557: FutureWarning: `distplot` is a deprecated function and will be removed in a future version. Please adapt your code to use either `displot` (a figure-level function with similar flexibility) or `histplot` (an axes-level function for histograms).\n",
      "  warnings.warn(msg, FutureWarning)\n"
     ]
    },
    {
     "data": {
      "text/plain": [
       "<matplotlib.axes._subplots.AxesSubplot at 0x7f96ac7b10b8>"
      ]
     },
     "execution_count": 34,
     "metadata": {},
     "output_type": "execute_result"
    },
    {
     "data": {
      "image/png": "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\n",
      "text/plain": [
       "<Figure size 1440x1080 with 3 Axes>"
      ]
     },
     "metadata": {
      "needs_background": "light"
     },
     "output_type": "display_data"
    }
   ],
   "source": [
    "# Визуализирую распределения метрик для определения их границ\n",
    "\n",
    "plt.figure(figsize=(20, 15))\n",
    "plt.subplot(3, 3, 1)\n",
    "sns.distplot(rfm.recency)\n",
    "plt.subplot(3, 3, 2)\n",
    "sns.distplot(rfm.frequency)\n",
    "plt.subplot(3, 3, 3)\n",
    "sns.distplot(rfm.monetary)"
   ]
  },
  {
   "cell_type": "code",
   "execution_count": 35,
   "metadata": {
    "scrolled": true
   },
   "outputs": [
    {
     "data": {
      "text/html": [
       "<div>\n",
       "<style scoped>\n",
       "    .dataframe tbody tr th:only-of-type {\n",
       "        vertical-align: middle;\n",
       "    }\n",
       "\n",
       "    .dataframe tbody tr th {\n",
       "        vertical-align: top;\n",
       "    }\n",
       "\n",
       "    .dataframe thead th {\n",
       "        text-align: right;\n",
       "    }\n",
       "</style>\n",
       "<table border=\"1\" class=\"dataframe\">\n",
       "  <thead>\n",
       "    <tr style=\"text-align: right;\">\n",
       "      <th></th>\n",
       "      <th>recency</th>\n",
       "      <th>frequency</th>\n",
       "      <th>monetary</th>\n",
       "    </tr>\n",
       "  </thead>\n",
       "  <tbody>\n",
       "    <tr>\n",
       "      <th>count</th>\n",
       "      <td>93358.00</td>\n",
       "      <td>93358.00</td>\n",
       "      <td>93358.00</td>\n",
       "    </tr>\n",
       "    <tr>\n",
       "      <th>mean</th>\n",
       "      <td>237.94</td>\n",
       "      <td>1.18</td>\n",
       "      <td>141.62</td>\n",
       "    </tr>\n",
       "    <tr>\n",
       "      <th>std</th>\n",
       "      <td>152.59</td>\n",
       "      <td>0.62</td>\n",
       "      <td>215.69</td>\n",
       "    </tr>\n",
       "    <tr>\n",
       "      <th>min</th>\n",
       "      <td>1.00</td>\n",
       "      <td>1.00</td>\n",
       "      <td>0.85</td>\n",
       "    </tr>\n",
       "    <tr>\n",
       "      <th>25%</th>\n",
       "      <td>114.00</td>\n",
       "      <td>1.00</td>\n",
       "      <td>47.65</td>\n",
       "    </tr>\n",
       "    <tr>\n",
       "      <th>50%</th>\n",
       "      <td>219.00</td>\n",
       "      <td>1.00</td>\n",
       "      <td>89.73</td>\n",
       "    </tr>\n",
       "    <tr>\n",
       "      <th>75%</th>\n",
       "      <td>346.00</td>\n",
       "      <td>1.00</td>\n",
       "      <td>154.74</td>\n",
       "    </tr>\n",
       "    <tr>\n",
       "      <th>max</th>\n",
       "      <td>714.00</td>\n",
       "      <td>24.00</td>\n",
       "      <td>13440.00</td>\n",
       "    </tr>\n",
       "  </tbody>\n",
       "</table>\n",
       "</div>"
      ],
      "text/plain": [
       "        recency  frequency  monetary\n",
       "count  93358.00   93358.00  93358.00\n",
       "mean     237.94       1.18    141.62\n",
       "std      152.59       0.62    215.69\n",
       "min        1.00       1.00      0.85\n",
       "25%      114.00       1.00     47.65\n",
       "50%      219.00       1.00     89.73\n",
       "75%      346.00       1.00    154.74\n",
       "max      714.00      24.00  13440.00"
      ]
     },
     "execution_count": 35,
     "metadata": {},
     "output_type": "execute_result"
    }
   ],
   "source": [
    "rfm.describe().round(2)"
   ]
  },
  {
   "cell_type": "markdown",
   "metadata": {},
   "source": [
    "Распределения frequency и monetary смещены сильно влево. Особенно frequency - все его процентили min, 25%, 50% и 75% равны 1, так как подавляющее большинство пользователей совершили всего 1 покупку за все время. \n",
    "Поэтому для recency и monetary я буду использовать границы 25 и 75 процентилей для более равномерного распределения сегментов, а для frequency границами будут 2 и 5 покупок. Чем выше балл, тем лучше."
   ]
  },
  {
   "cell_type": "code",
   "execution_count": 62,
   "metadata": {},
   "outputs": [],
   "source": [
    "# Задаю границы для каждой метрики\n",
    "\n",
    "def r_score(x):\n",
    "    if x <= 114:\n",
    "        return 3\n",
    "    elif x < 346 and x > 114:\n",
    "        return 2\n",
    "    else:\n",
    "        return 1\n",
    "    \n",
    "def f_score(x):\n",
    "    if x >= 5:\n",
    "        return 3\n",
    "    elif x >= 2 and x < 5:\n",
    "        return 2\n",
    "    else:\n",
    "        return 1\n",
    "    \n",
    "def m_score(x):\n",
    "    if x > 155:\n",
    "        return 3\n",
    "    elif x >= 48 and x <= 155:\n",
    "        return 2\n",
    "    else:\n",
    "        return 1"
   ]
  },
  {
   "cell_type": "code",
   "execution_count": 63,
   "metadata": {},
   "outputs": [],
   "source": [
    "# Формирую сегменты\n",
    "\n",
    "rfm['R'] = rfm['recency'].apply(lambda x: r_score(x))\n",
    "rfm['F'] = rfm['frequency'].apply(lambda x: f_score(x))\n",
    "rfm['M'] = rfm['monetary'].apply(lambda x: m_score(x))\n",
    "rfm['rfm_score'] = rfm['R'].map(str) + rfm['F'].map(str) + rfm['M'].map(str)"
   ]
  },
  {
   "cell_type": "code",
   "execution_count": 65,
   "metadata": {},
   "outputs": [
    {
     "name": "stderr",
     "output_type": "stream",
     "text": [
      "/opt/tljh/user/lib/python3.7/site-packages/seaborn/_decorators.py:43: FutureWarning:\n",
      "\n",
      "Pass the following variable as a keyword arg: x. From version 0.12, the only valid positional argument will be `data`, and passing other arguments without an explicit keyword will result in an error or misinterpretation.\n",
      "\n"
     ]
    },
    {
     "data": {
      "text/plain": [
       "<matplotlib.axes._subplots.AxesSubplot at 0x7f969b1a35c0>"
      ]
     },
     "execution_count": 65,
     "metadata": {},
     "output_type": "execute_result"
    },
    {
     "data": {
      "image/png": "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\n",
      "text/plain": [
       "<Figure size 864x432 with 1 Axes>"
      ]
     },
     "metadata": {
      "needs_background": "light"
     },
     "output_type": "display_data"
    }
   ],
   "source": [
    "# Визуализирую RFM-сегментацию пользователей\n",
    "\n",
    "plt.figure(figsize=(12,6))\n",
    "sns.countplot(rfm.rfm_score, order = rfm['rfm_score'].value_counts().index)"
   ]
  },
  {
   "cell_type": "code",
   "execution_count": null,
   "metadata": {},
   "outputs": [],
   "source": []
  },
  {
   "cell_type": "markdown",
   "metadata": {},
   "source": [
    "Для удобства работы с данными:"
   ]
  },
  {
   "cell_type": "code",
   "execution_count": 39,
   "metadata": {},
   "outputs": [
    {
     "data": {
      "text/plain": [
       "(112650, 7)"
      ]
     },
     "execution_count": 39,
     "metadata": {},
     "output_type": "execute_result"
    }
   ],
   "source": [
    "items_df.shape"
   ]
  },
  {
   "cell_type": "code",
   "execution_count": 40,
   "metadata": {},
   "outputs": [
    {
     "data": {
      "text/plain": [
       "(99441, 5)"
      ]
     },
     "execution_count": 40,
     "metadata": {},
     "output_type": "execute_result"
    }
   ],
   "source": [
    "customers_df.shape"
   ]
  },
  {
   "cell_type": "code",
   "execution_count": 41,
   "metadata": {},
   "outputs": [
    {
     "data": {
      "text/plain": [
       "(99441, 8)"
      ]
     },
     "execution_count": 41,
     "metadata": {},
     "output_type": "execute_result"
    }
   ],
   "source": [
    "orders_df.shape"
   ]
  },
  {
   "cell_type": "code",
   "execution_count": 42,
   "metadata": {},
   "outputs": [
    {
     "data": {
      "text/html": [
       "<div>\n",
       "<style scoped>\n",
       "    .dataframe tbody tr th:only-of-type {\n",
       "        vertical-align: middle;\n",
       "    }\n",
       "\n",
       "    .dataframe tbody tr th {\n",
       "        vertical-align: top;\n",
       "    }\n",
       "\n",
       "    .dataframe thead th {\n",
       "        text-align: right;\n",
       "    }\n",
       "</style>\n",
       "<table border=\"1\" class=\"dataframe\">\n",
       "  <thead>\n",
       "    <tr style=\"text-align: right;\">\n",
       "      <th></th>\n",
       "      <th>customer_id</th>\n",
       "      <th>customer_unique_id</th>\n",
       "      <th>customer_zip_code_prefix</th>\n",
       "      <th>customer_city</th>\n",
       "      <th>customer_state</th>\n",
       "    </tr>\n",
       "  </thead>\n",
       "  <tbody>\n",
       "    <tr>\n",
       "      <th>0</th>\n",
       "      <td>06b8999e2fba1a1fbc88172c00ba8bc7</td>\n",
       "      <td>861eff4711a542e4b93843c6dd7febb0</td>\n",
       "      <td>14409</td>\n",
       "      <td>franca</td>\n",
       "      <td>SP</td>\n",
       "    </tr>\n",
       "    <tr>\n",
       "      <th>1</th>\n",
       "      <td>18955e83d337fd6b2def6b18a428ac77</td>\n",
       "      <td>290c77bc529b7ac935b93aa66c333dc3</td>\n",
       "      <td>9790</td>\n",
       "      <td>sao bernardo do campo</td>\n",
       "      <td>SP</td>\n",
       "    </tr>\n",
       "    <tr>\n",
       "      <th>2</th>\n",
       "      <td>4e7b3e00288586ebd08712fdd0374a03</td>\n",
       "      <td>060e732b5b29e8181a18229c7b0b2b5e</td>\n",
       "      <td>1151</td>\n",
       "      <td>sao paulo</td>\n",
       "      <td>SP</td>\n",
       "    </tr>\n",
       "    <tr>\n",
       "      <th>3</th>\n",
       "      <td>b2b6027bc5c5109e529d4dc6358b12c3</td>\n",
       "      <td>259dac757896d24d7702b9acbbff3f3c</td>\n",
       "      <td>8775</td>\n",
       "      <td>mogi das cruzes</td>\n",
       "      <td>SP</td>\n",
       "    </tr>\n",
       "    <tr>\n",
       "      <th>4</th>\n",
       "      <td>4f2d8ab171c80ec8364f7c12e35b23ad</td>\n",
       "      <td>345ecd01c38d18a9036ed96c73b8d066</td>\n",
       "      <td>13056</td>\n",
       "      <td>campinas</td>\n",
       "      <td>SP</td>\n",
       "    </tr>\n",
       "  </tbody>\n",
       "</table>\n",
       "</div>"
      ],
      "text/plain": [
       "                        customer_id                customer_unique_id  \\\n",
       "0  06b8999e2fba1a1fbc88172c00ba8bc7  861eff4711a542e4b93843c6dd7febb0   \n",
       "1  18955e83d337fd6b2def6b18a428ac77  290c77bc529b7ac935b93aa66c333dc3   \n",
       "2  4e7b3e00288586ebd08712fdd0374a03  060e732b5b29e8181a18229c7b0b2b5e   \n",
       "3  b2b6027bc5c5109e529d4dc6358b12c3  259dac757896d24d7702b9acbbff3f3c   \n",
       "4  4f2d8ab171c80ec8364f7c12e35b23ad  345ecd01c38d18a9036ed96c73b8d066   \n",
       "\n",
       "   customer_zip_code_prefix          customer_city customer_state  \n",
       "0                     14409                 franca             SP  \n",
       "1                      9790  sao bernardo do campo             SP  \n",
       "2                      1151              sao paulo             SP  \n",
       "3                      8775        mogi das cruzes             SP  \n",
       "4                     13056               campinas             SP  "
      ]
     },
     "execution_count": 42,
     "metadata": {},
     "output_type": "execute_result"
    }
   ],
   "source": [
    "customers_df.head()\n",
    "\n",
    "#customer_id — позаказный идентификатор пользователя\n",
    "#customer_unique_id —  уникальный идентификатор пользователя  (аналог номера паспорта)\n",
    "#customer_zip_code_prefix —  почтовый индекс пользователя\n",
    "#customer_city —  город доставки пользователя\n",
    "#customer_state —  штат доставки пользователя"
   ]
  },
  {
   "cell_type": "code",
   "execution_count": 43,
   "metadata": {
    "scrolled": true
   },
   "outputs": [
    {
     "data": {
      "text/html": [
       "<div>\n",
       "<style scoped>\n",
       "    .dataframe tbody tr th:only-of-type {\n",
       "        vertical-align: middle;\n",
       "    }\n",
       "\n",
       "    .dataframe tbody tr th {\n",
       "        vertical-align: top;\n",
       "    }\n",
       "\n",
       "    .dataframe thead th {\n",
       "        text-align: right;\n",
       "    }\n",
       "</style>\n",
       "<table border=\"1\" class=\"dataframe\">\n",
       "  <thead>\n",
       "    <tr style=\"text-align: right;\">\n",
       "      <th></th>\n",
       "      <th>order_id</th>\n",
       "      <th>customer_id</th>\n",
       "      <th>order_status</th>\n",
       "      <th>order_purchase_timestamp</th>\n",
       "      <th>order_approved_at</th>\n",
       "      <th>order_delivered_carrier_date</th>\n",
       "      <th>order_delivered_customer_date</th>\n",
       "      <th>order_estimated_delivery_date</th>\n",
       "    </tr>\n",
       "  </thead>\n",
       "  <tbody>\n",
       "    <tr>\n",
       "      <th>0</th>\n",
       "      <td>e481f51cbdc54678b7cc49136f2d6af7</td>\n",
       "      <td>9ef432eb6251297304e76186b10a928d</td>\n",
       "      <td>delivered</td>\n",
       "      <td>2017-10-02 10:56:33</td>\n",
       "      <td>2017-10-02 11:07:15</td>\n",
       "      <td>2017-10-04 19:55:00</td>\n",
       "      <td>2017-10-10 21:25:13</td>\n",
       "      <td>2017-10-18</td>\n",
       "    </tr>\n",
       "    <tr>\n",
       "      <th>1</th>\n",
       "      <td>53cdb2fc8bc7dce0b6741e2150273451</td>\n",
       "      <td>b0830fb4747a6c6d20dea0b8c802d7ef</td>\n",
       "      <td>delivered</td>\n",
       "      <td>2018-07-24 20:41:37</td>\n",
       "      <td>2018-07-26 03:24:27</td>\n",
       "      <td>2018-07-26 14:31:00</td>\n",
       "      <td>2018-08-07 15:27:45</td>\n",
       "      <td>2018-08-13</td>\n",
       "    </tr>\n",
       "    <tr>\n",
       "      <th>2</th>\n",
       "      <td>47770eb9100c2d0c44946d9cf07ec65d</td>\n",
       "      <td>41ce2a54c0b03bf3443c3d931a367089</td>\n",
       "      <td>delivered</td>\n",
       "      <td>2018-08-08 08:38:49</td>\n",
       "      <td>2018-08-08 08:55:23</td>\n",
       "      <td>2018-08-08 13:50:00</td>\n",
       "      <td>2018-08-17 18:06:29</td>\n",
       "      <td>2018-09-04</td>\n",
       "    </tr>\n",
       "    <tr>\n",
       "      <th>3</th>\n",
       "      <td>949d5b44dbf5de918fe9c16f97b45f8a</td>\n",
       "      <td>f88197465ea7920adcdbec7375364d82</td>\n",
       "      <td>delivered</td>\n",
       "      <td>2017-11-18 19:28:06</td>\n",
       "      <td>2017-11-18 19:45:59</td>\n",
       "      <td>2017-11-22 13:39:59</td>\n",
       "      <td>2017-12-02 00:28:42</td>\n",
       "      <td>2017-12-15</td>\n",
       "    </tr>\n",
       "    <tr>\n",
       "      <th>4</th>\n",
       "      <td>ad21c59c0840e6cb83a9ceb5573f8159</td>\n",
       "      <td>8ab97904e6daea8866dbdbc4fb7aad2c</td>\n",
       "      <td>delivered</td>\n",
       "      <td>2018-02-13 21:18:39</td>\n",
       "      <td>2018-02-13 22:20:29</td>\n",
       "      <td>2018-02-14 19:46:34</td>\n",
       "      <td>2018-02-16 18:17:02</td>\n",
       "      <td>2018-02-26</td>\n",
       "    </tr>\n",
       "  </tbody>\n",
       "</table>\n",
       "</div>"
      ],
      "text/plain": [
       "                           order_id                       customer_id  \\\n",
       "0  e481f51cbdc54678b7cc49136f2d6af7  9ef432eb6251297304e76186b10a928d   \n",
       "1  53cdb2fc8bc7dce0b6741e2150273451  b0830fb4747a6c6d20dea0b8c802d7ef   \n",
       "2  47770eb9100c2d0c44946d9cf07ec65d  41ce2a54c0b03bf3443c3d931a367089   \n",
       "3  949d5b44dbf5de918fe9c16f97b45f8a  f88197465ea7920adcdbec7375364d82   \n",
       "4  ad21c59c0840e6cb83a9ceb5573f8159  8ab97904e6daea8866dbdbc4fb7aad2c   \n",
       "\n",
       "  order_status order_purchase_timestamp   order_approved_at  \\\n",
       "0    delivered      2017-10-02 10:56:33 2017-10-02 11:07:15   \n",
       "1    delivered      2018-07-24 20:41:37 2018-07-26 03:24:27   \n",
       "2    delivered      2018-08-08 08:38:49 2018-08-08 08:55:23   \n",
       "3    delivered      2017-11-18 19:28:06 2017-11-18 19:45:59   \n",
       "4    delivered      2018-02-13 21:18:39 2018-02-13 22:20:29   \n",
       "\n",
       "  order_delivered_carrier_date order_delivered_customer_date  \\\n",
       "0          2017-10-04 19:55:00           2017-10-10 21:25:13   \n",
       "1          2018-07-26 14:31:00           2018-08-07 15:27:45   \n",
       "2          2018-08-08 13:50:00           2018-08-17 18:06:29   \n",
       "3          2017-11-22 13:39:59           2017-12-02 00:28:42   \n",
       "4          2018-02-14 19:46:34           2018-02-16 18:17:02   \n",
       "\n",
       "  order_estimated_delivery_date  \n",
       "0                    2017-10-18  \n",
       "1                    2018-08-13  \n",
       "2                    2018-09-04  \n",
       "3                    2017-12-15  \n",
       "4                    2018-02-26  "
      ]
     },
     "execution_count": 43,
     "metadata": {},
     "output_type": "execute_result"
    }
   ],
   "source": [
    "orders_df.head()\n",
    "\n",
    "#order_id —  уникальный идентификатор заказа (номер чека)\n",
    "#customer_id —  позаказный идентификатор пользователя\n",
    "#order_status —  статус заказа\n",
    "#order_purchase_timestamp —  время создания заказа\n",
    "#order_approved_at —  время подтверждения оплаты заказа\n",
    "#order_delivered_carrier_date —  время передачи заказа в логистическую службу\n",
    "#order_delivered_customer_date —  время доставки заказа\n",
    "#order_estimated_delivery_date —  обещанная дата доставки\n",
    "\n",
    "#created —  создан\n",
    "#approved —  подтверждён\n",
    "#invoiced —  выставлен счёт\n",
    "#processing —  в процессе сборки заказа\n",
    "#shipped —  отгружен со склада\n",
    "#delivered —  доставлен пользователю\n",
    "#unavailable —  недоступен\n",
    "#canceled —  отменён"
   ]
  },
  {
   "cell_type": "code",
   "execution_count": 44,
   "metadata": {},
   "outputs": [
    {
     "data": {
      "text/html": [
       "<div>\n",
       "<style scoped>\n",
       "    .dataframe tbody tr th:only-of-type {\n",
       "        vertical-align: middle;\n",
       "    }\n",
       "\n",
       "    .dataframe tbody tr th {\n",
       "        vertical-align: top;\n",
       "    }\n",
       "\n",
       "    .dataframe thead th {\n",
       "        text-align: right;\n",
       "    }\n",
       "</style>\n",
       "<table border=\"1\" class=\"dataframe\">\n",
       "  <thead>\n",
       "    <tr style=\"text-align: right;\">\n",
       "      <th></th>\n",
       "      <th>order_id</th>\n",
       "      <th>order_item_id</th>\n",
       "      <th>product_id</th>\n",
       "      <th>seller_id</th>\n",
       "      <th>shipping_limit_date</th>\n",
       "      <th>price</th>\n",
       "      <th>freight_value</th>\n",
       "    </tr>\n",
       "  </thead>\n",
       "  <tbody>\n",
       "    <tr>\n",
       "      <th>0</th>\n",
       "      <td>00010242fe8c5a6d1ba2dd792cb16214</td>\n",
       "      <td>1</td>\n",
       "      <td>4244733e06e7ecb4970a6e2683c13e61</td>\n",
       "      <td>48436dade18ac8b2bce089ec2a041202</td>\n",
       "      <td>2017-09-19 09:45:35</td>\n",
       "      <td>58.90</td>\n",
       "      <td>13.29</td>\n",
       "    </tr>\n",
       "    <tr>\n",
       "      <th>1</th>\n",
       "      <td>00018f77f2f0320c557190d7a144bdd3</td>\n",
       "      <td>1</td>\n",
       "      <td>e5f2d52b802189ee658865ca93d83a8f</td>\n",
       "      <td>dd7ddc04e1b6c2c614352b383efe2d36</td>\n",
       "      <td>2017-05-03 11:05:13</td>\n",
       "      <td>239.90</td>\n",
       "      <td>19.93</td>\n",
       "    </tr>\n",
       "    <tr>\n",
       "      <th>2</th>\n",
       "      <td>000229ec398224ef6ca0657da4fc703e</td>\n",
       "      <td>1</td>\n",
       "      <td>c777355d18b72b67abbeef9df44fd0fd</td>\n",
       "      <td>5b51032eddd242adc84c38acab88f23d</td>\n",
       "      <td>2018-01-18 14:48:30</td>\n",
       "      <td>199.00</td>\n",
       "      <td>17.87</td>\n",
       "    </tr>\n",
       "    <tr>\n",
       "      <th>3</th>\n",
       "      <td>00024acbcdf0a6daa1e931b038114c75</td>\n",
       "      <td>1</td>\n",
       "      <td>7634da152a4610f1595efa32f14722fc</td>\n",
       "      <td>9d7a1d34a5052409006425275ba1c2b4</td>\n",
       "      <td>2018-08-15 10:10:18</td>\n",
       "      <td>12.99</td>\n",
       "      <td>12.79</td>\n",
       "    </tr>\n",
       "    <tr>\n",
       "      <th>4</th>\n",
       "      <td>00042b26cf59d7ce69dfabb4e55b4fd9</td>\n",
       "      <td>1</td>\n",
       "      <td>ac6c3623068f30de03045865e4e10089</td>\n",
       "      <td>df560393f3a51e74553ab94004ba5c87</td>\n",
       "      <td>2017-02-13 13:57:51</td>\n",
       "      <td>199.90</td>\n",
       "      <td>18.14</td>\n",
       "    </tr>\n",
       "  </tbody>\n",
       "</table>\n",
       "</div>"
      ],
      "text/plain": [
       "                           order_id  order_item_id  \\\n",
       "0  00010242fe8c5a6d1ba2dd792cb16214              1   \n",
       "1  00018f77f2f0320c557190d7a144bdd3              1   \n",
       "2  000229ec398224ef6ca0657da4fc703e              1   \n",
       "3  00024acbcdf0a6daa1e931b038114c75              1   \n",
       "4  00042b26cf59d7ce69dfabb4e55b4fd9              1   \n",
       "\n",
       "                         product_id                         seller_id  \\\n",
       "0  4244733e06e7ecb4970a6e2683c13e61  48436dade18ac8b2bce089ec2a041202   \n",
       "1  e5f2d52b802189ee658865ca93d83a8f  dd7ddc04e1b6c2c614352b383efe2d36   \n",
       "2  c777355d18b72b67abbeef9df44fd0fd  5b51032eddd242adc84c38acab88f23d   \n",
       "3  7634da152a4610f1595efa32f14722fc  9d7a1d34a5052409006425275ba1c2b4   \n",
       "4  ac6c3623068f30de03045865e4e10089  df560393f3a51e74553ab94004ba5c87   \n",
       "\n",
       "  shipping_limit_date   price  freight_value  \n",
       "0 2017-09-19 09:45:35   58.90          13.29  \n",
       "1 2017-05-03 11:05:13  239.90          19.93  \n",
       "2 2018-01-18 14:48:30  199.00          17.87  \n",
       "3 2018-08-15 10:10:18   12.99          12.79  \n",
       "4 2017-02-13 13:57:51  199.90          18.14  "
      ]
     },
     "execution_count": 44,
     "metadata": {},
     "output_type": "execute_result"
    }
   ],
   "source": [
    "items_df.head()\n",
    "\n",
    "#order_id —  уникальный идентификатор заказа (номер чека)\n",
    "#order_item_id —  идентификатор товара внутри одного заказа\n",
    "#product_id —  ид товара (аналог штрихкода)\n",
    "#seller_id — ид производителя товара\n",
    "#shipping_limit_date —  максимальная дата доставки продавцом для передачи заказа партнеру по логистике\n",
    "#price —  цена за единицу товара\n",
    "#freight_value —  вес товара"
   ]
  },
  {
   "cell_type": "code",
   "execution_count": null,
   "metadata": {},
   "outputs": [],
   "source": []
  }
 ],
 "metadata": {
  "kernelspec": {
   "display_name": "Python 3 (ipykernel)",
   "language": "python",
   "name": "python3"
  },
  "language_info": {
   "codemirror_mode": {
    "name": "ipython",
    "version": 3
   },
   "file_extension": ".py",
   "mimetype": "text/x-python",
   "name": "python",
   "nbconvert_exporter": "python",
   "pygments_lexer": "ipython3",
   "version": "3.12.2"
  }
 },
 "nbformat": 4,
 "nbformat_minor": 4
}
